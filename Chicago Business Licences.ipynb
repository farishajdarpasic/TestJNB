{
 "cells": [
  {
   "cell_type": "markdown",
   "id": "e07ad82e",
   "metadata": {},
   "source": [
    "# Chicago Business Licences"
   ]
  },
  {
   "cell_type": "code",
   "execution_count": 1,
   "id": "6444a1a7",
   "metadata": {},
   "outputs": [],
   "source": [
    "import numpy as np\n",
    "import pandas as pd"
   ]
  },
  {
   "cell_type": "code",
   "execution_count": 2,
   "id": "c3e5d2b3",
   "metadata": {},
   "outputs": [
    {
     "name": "stderr",
     "output_type": "stream",
     "text": [
      "C:\\Users\\faris\\anaconda3\\lib\\site-packages\\IPython\\core\\interactiveshell.py:3457: DtypeWarning: Columns (9) have mixed types.Specify dtype option on import or set low_memory=False.\n",
      "  exec(code_obj, self.user_global_ns, self.user_ns)\n"
     ]
    }
   ],
   "source": [
    "pd.set_option('display.max_columns',34)\n",
    "url = 'C:\\\\Users\\\\faris\\\\OneDrive\\\\Desktop\\\\Atlantbh Internship\\\\chicago_business_licences.csv'\n",
    "df = pd.read_csv(url)"
   ]
  },
  {
   "cell_type": "code",
   "execution_count": 17,
   "id": "721246aa",
   "metadata": {},
   "outputs": [
    {
     "data": {
      "text/plain": [
       "0         (41.90292929858984, -87.70804857041449)\n",
       "1        (41.899021699577446, -87.62892425348232)\n",
       "2         (41.69959016411553, -87.72052483447736)\n",
       "3        (41.907636294514994, -87.62995230434338)\n",
       "4         (41.93759551483016, -87.64446516842042)\n",
       "                           ...                   \n",
       "56473     (41.98695617692099, -87.70184643080755)\n",
       "56474     (41.98699512521374, -87.70191193180706)\n",
       "56475     (41.97738953666194, -87.66852279752685)\n",
       "56476     (41.97618581214362, -87.67636181643158)\n",
       "56477    (41.884048725151324, -87.66305613344618)\n",
       "Name: LOCATION, Length: 56478, dtype: object"
      ]
     },
     "execution_count": 17,
     "metadata": {},
     "output_type": "execute_result"
    }
   ],
   "source": [
    "df.head(10)\n",
    "df['LOCATION']"
   ]
  },
  {
   "cell_type": "code",
   "execution_count": null,
   "id": "0be7dfae",
   "metadata": {},
   "outputs": [],
   "source": []
  },
  {
   "cell_type": "code",
   "execution_count": null,
   "id": "6fd6a1d5",
   "metadata": {},
   "outputs": [],
   "source": []
  },
  {
   "cell_type": "code",
   "execution_count": null,
   "id": "70811401",
   "metadata": {},
   "outputs": [],
   "source": []
  },
  {
   "cell_type": "code",
   "execution_count": null,
   "id": "12f891bc",
   "metadata": {},
   "outputs": [],
   "source": []
  },
  {
   "cell_type": "code",
   "execution_count": null,
   "id": "c025c4a9",
   "metadata": {},
   "outputs": [],
   "source": []
  },
  {
   "cell_type": "code",
   "execution_count": null,
   "id": "3e82d2c0",
   "metadata": {},
   "outputs": [],
   "source": []
  },
  {
   "cell_type": "code",
   "execution_count": null,
   "id": "e076d912",
   "metadata": {},
   "outputs": [],
   "source": []
  }
 ],
 "metadata": {
  "kernelspec": {
   "display_name": "Python 3 (ipykernel)",
   "language": "python",
   "name": "python3"
  },
  "language_info": {
   "codemirror_mode": {
    "name": "ipython",
    "version": 3
   },
   "file_extension": ".py",
   "mimetype": "text/x-python",
   "name": "python",
   "nbconvert_exporter": "python",
   "pygments_lexer": "ipython3",
   "version": "3.8.12"
  }
 },
 "nbformat": 4,
 "nbformat_minor": 5
}
